{
 "cells": [
  {
   "cell_type": "markdown",
   "id": "20418ebf-0986-4d62-8889-af66bb9439ad",
   "metadata": {},
   "source": [
    "# My Jupyter Notebook on IBM Watson Studio "
   ]
  },
  {
   "cell_type": "markdown",
   "id": "89ad44e8-6ebd-47a3-961b-447b62efd96e",
   "metadata": {},
   "source": [
    "__Olatolu Afolabi__\n",
    "\n",
    "Data Analyst"
   ]
  },
  {
   "cell_type": "markdown",
   "id": "f3766bdc-1a41-47e8-8bb2-f1d78a2adb77",
   "metadata": {},
   "source": [
    "_I am interested in data science because I want to gain knowledge in the use of programming languages such as Python and SQL, and data science tools to advance my career in data analytics and data science._"
   ]
  },
  {
   "cell_type": "markdown",
   "id": "2a876cf2-8c47-4a66-acef-02673f46566e",
   "metadata": {},
   "source": [
    "### The purpose of the code below is to solve a simple algebra equation of x * y."
   ]
  },
  {
   "cell_type": "code",
   "execution_count": 2,
   "id": "6f2c3226-ac2c-457f-abb1-6f5cb47265c2",
   "metadata": {},
   "outputs": [
    {
     "data": {
      "text/plain": [
       "105"
      ]
     },
     "execution_count": 2,
     "metadata": {},
     "output_type": "execute_result"
    }
   ],
   "source": [
    "x = 4 + 3\n",
    "y = 6 + 9\n",
    "x*y"
   ]
  },
  {
   "cell_type": "markdown",
   "id": "44df987c-fffc-4acb-ac01-c69cd0dfb886",
   "metadata": {},
   "source": [
    "Favorite Anime of All Time\n",
    "___\n",
    "1. Attack on Titan\n",
    "2. Naruto\n",
    "3. Fullmetal Alchemist\n",
    "4. Hunter X Hunter\n",
    "5. Code Geass\n",
    "\n",
    "<a href=\"https://myanimelist.net/animelist/afolabio96\">My Anime List</a>\n"
   ]
  },
  {
   "cell_type": "code",
   "execution_count": null,
   "id": "3f21a37d-40cb-462d-bb57-ca8fb803225a",
   "metadata": {},
   "outputs": [],
   "source": []
  }
 ],
 "metadata": {
  "kernelspec": {
   "display_name": "Python",
   "language": "python",
   "name": "conda-env-python-py"
  },
  "language_info": {
   "codemirror_mode": {
    "name": "ipython",
    "version": 3
   },
   "file_extension": ".py",
   "mimetype": "text/x-python",
   "name": "python",
   "nbconvert_exporter": "python",
   "pygments_lexer": "ipython3",
   "version": "3.7.12"
  }
 },
 "nbformat": 4,
 "nbformat_minor": 5
}
